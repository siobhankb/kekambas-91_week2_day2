{
 "cells": [
  {
   "cell_type": "markdown",
   "metadata": {},
   "source": [
    "# Working with Strings and Lists, List Comprehension, Tuples"
   ]
  },
  {
   "cell_type": "markdown",
   "metadata": {},
   "source": [
    "## Tasks Today:\n",
    "\n",
    "\n",
    "1) String Manipulation <br>\n",
    " &nbsp;&nbsp;&nbsp;&nbsp; a) lstrip() <br>\n",
    " &nbsp;&nbsp;&nbsp;&nbsp; b) rstrip() <br>\n",
    " &nbsp;&nbsp;&nbsp;&nbsp; c) strip() <br>\n",
    " &nbsp;&nbsp;&nbsp;&nbsp; d) title() <br>\n",
    " &nbsp;&nbsp;&nbsp;&nbsp; e) upper() <br>\n",
    " &nbsp;&nbsp;&nbsp;&nbsp; f) lower() <br>\n",
    " &nbsp;&nbsp;&nbsp;&nbsp; g) capitalize() <br>\n",
    " &nbsp;&nbsp;&nbsp;&nbsp; h) Exercise <br>\n",
    "2) Working With Lists <br>\n",
    " &nbsp;&nbsp;&nbsp;&nbsp; a) min() <br>\n",
    " &nbsp;&nbsp;&nbsp;&nbsp; b) max() <br>\n",
    " &nbsp;&nbsp;&nbsp;&nbsp; c) sum() <br>\n",
    " &nbsp;&nbsp;&nbsp;&nbsp; d) sorted() <br>\n",
    " &nbsp;&nbsp;&nbsp;&nbsp; e) .sort() <br>\n",
    " &nbsp;&nbsp;&nbsp;&nbsp; f) Copying a List <br>\n",
    " &nbsp;&nbsp;&nbsp;&nbsp; g) 'in' keyword <br>\n",
    " &nbsp;&nbsp;&nbsp;&nbsp; h) 'not in' keyword <br>\n",
    " &nbsp;&nbsp;&nbsp;&nbsp; i) Checking an Empty List <br>\n",
    " &nbsp;&nbsp;&nbsp;&nbsp; j) Removing Instances with a Loop <br>\n",
    " &nbsp;&nbsp;&nbsp;&nbsp; k) Exercise <br>\n",
    "3) List Comprehensions <br>\n",
    " &nbsp;&nbsp;&nbsp;&nbsp; a) Syntax <br>\n",
    " &nbsp;&nbsp;&nbsp;&nbsp; b) Square numbers <br>\n",
    " &nbsp;&nbsp;&nbsp;&nbsp; c) Strings <br>\n",
    " &nbsp;&nbsp;&nbsp;&nbsp; d) Filters <br>\n",
    "4) Ternary Operators <br>\n",
    "5) Tuples <br>\n",
    " &nbsp;&nbsp;&nbsp;&nbsp; a) vs lists <br>\n",
    " &nbsp;&nbsp;&nbsp;&nbsp; b) syntax <br>\n",
    " &nbsp;&nbsp;&nbsp;&nbsp; c) index, iterate, slice <br>\n",
    " &nbsp;&nbsp;&nbsp;&nbsp; d) sorting <br>\n",
    " &nbsp;&nbsp;&nbsp;&nbsp; e) adding values to tuples <br>"
   ]
  },
  {
   "cell_type": "markdown",
   "metadata": {},
   "source": [
    "### List Exercise <br>\n",
    "<p>Remove all duplicates<br><b>Extra: Create a program that will remove any duplicates from a given list</b></p>"
   ]
  },
  {
   "cell_type": "code",
   "execution_count": 70,
   "metadata": {},
   "outputs": [
    {
     "name": "stdout",
     "output_type": "stream",
     "text": [
      "originial list: \n",
      "\n",
      "\t['connor', 'connor', 'bob', 'connor', 'evan', 'max', 'evan', 2, 2, 2, 3, 3, 4, 'bob', 'kevin']\n",
      "\n",
      "list with dupliates removed: \n",
      "\n",
      "\t['kevin', 'bob', 4, 3, 2, 'evan', 'max', 'connor']\n",
      "\n",
      "***another way to remove duplicates returns: \n",
      "\n",
      "\t***['kevin', 'bob', 4, 3, 2, 'evan', 'max', 'connor']***\n",
      "\n",
      "['connor', 'max', 'evan', 2, 3, 4, 'bob', 'kevin']\n",
      "the output of Vance's function is: None\n",
      "*** YET ANOTHER way to remove duplicates returns: \n",
      "\n",
      "\t***['connor', 'max', 'evan', 2, 3, 4, 'bob', 'kevin']***\n",
      "\n"
     ]
    }
   ],
   "source": [
    "names = ['connor', 'connor', 'bob', 'connor', 'evan', 'max', 'evan', 2, 2, 2, 3, 3, 4, 'bob', 'kevin']\n",
    "# Hint 1: You will need an append\n",
    "# Hint 2: Using an empty list will make life easier\n",
    "\n",
    "dupl_names = names[:]\n",
    "no_dupl_list = []\n",
    "while dupl_names:\n",
    "    check_name = dupl_names.pop()\n",
    "    no_dupl_list.append(check_name)\n",
    "    while check_name in dupl_names:\n",
    "        dupl_names.remove(check_name)\n",
    "        \n",
    "print(f\"originial list: \\n\\n\\t{names}\\n\")\n",
    "print(f\"list with dupliates removed: \\n\\n\\t{no_dupl_list}\\n\")\n",
    "\n",
    "# Output: ['connor', 'bob', 'evan', 'max', 2, 3, 4, 'kevin']\n",
    "\n",
    "#Another way:\n",
    "for name in names:\n",
    "    while names.count(name) > 1:\n",
    "        names.remove(name)\n",
    "\n",
    "print(f\"***another way to remove duplicates returns: \\n\\n\\t***{no_dupl_list}***\\n\")\n",
    "\n",
    "def rm_duplicates(name_list):\n",
    "    for name in name_list:\n",
    "        while name_list.count(name) > 1:\n",
    "            name_list.remove(name)\n",
    "    print(name_list)        \n",
    "\n",
    "duplicates_out = rm_duplicates(names)\n",
    "print(f\"the output of Vance's function is: {duplicates_out}\")\n",
    "\n",
    "#Yet another way\n",
    "no_duplicates = []\n",
    "for name in names:\n",
    "    if name not in no_duplicates:\n",
    "        no_duplicates.append(name)\n",
    "print(f\"*** YET ANOTHER way to remove duplicates returns: \\n\\n\\t***{no_duplicates}***\\n\")"
   ]
  },
  {
   "cell_type": "markdown",
   "metadata": {},
   "source": [
    "### List Comprehensions <br>\n",
    "<p>Creating a quickly generated list to work with<br>*result*  = [*transform*    *iteration*         *filter*     ]</p>"
   ]
  },
  {
   "cell_type": "code",
   "execution_count": 74,
   "metadata": {},
   "outputs": [
    {
     "name": "stdout",
     "output_type": "stream",
     "text": [
      "[1, 2, 3, 4, 5, 6, 7, 8, 9, 10, 11, 12, 13, 14, 15, 16, 17, 18, 19, 20, 21, 22, 23, 24, 25, 26, 27, 28, 29, 30, 31, 32, 33, 34, 35, 36, 37, 38, 39, 40, 41, 42, 43, 44, 45, 46, 47, 48, 49, 50, 51, 52, 53, 54, 55, 56, 57, 58, 59, 60, 61, 62, 63, 64, 65, 66, 67, 68, 69, 70, 71, 72, 73, 74, 75, 76, 77, 78, 79, 80, 81, 82, 83, 84, 85, 86, 87, 88, 89, 90, 91, 92, 93, 94, 95, 96, 97, 98, 99, 100]\n",
      "\n",
      "[1, 2, 3, 4, 5, 6, 7, 8, 9, 10, 11, 12, 13, 14, 15, 16, 17, 18, 19, 20, 21, 22, 23, 24, 25, 26, 27, 28, 29, 30, 31, 32, 33, 34, 35, 36, 37, 38, 39, 40, 41, 42, 43, 44, 45, 46, 47, 48, 49, 50, 51, 52, 53, 54, 55, 56, 57, 58, 59, 60, 61, 62, 63, 64, 65, 66, 67, 68, 69, 70, 71, 72, 73, 74, 75, 76, 77, 78, 79, 80, 81, 82, 83, 84, 85, 86, 87, 88, 89, 90, 91, 92, 93, 94, 95, 96, 97, 98, 99, 100]\n"
     ]
    }
   ],
   "source": [
    "# number comprehension\n",
    "\n",
    "# With a regular for loop\n",
    "nums = []\n",
    "for i in range(1, 101):\n",
    "    nums.append(i)\n",
    "\n",
    "print(nums)\n",
    "\n",
    "#take 3 lines and put them into 1 line of code:\n",
    "# *result*  = [*transform*    *iteration*         *filter*     ]\n",
    "nums_comp = [i for i in range(1,101)]\n",
    "print(f\"\\n{nums_comp}\")"
   ]
  },
  {
   "cell_type": "markdown",
   "metadata": {},
   "source": [
    "There are a few benefits to using List comprehensions. The most obvious would be that we now have shorter code to work with instead of using 3+ lines of code in the for loop variant.\n",
    "\n",
    "Another is an added benefit to memory usage. Since the list's memory is allocated first before adding elements to it, we don't have to resize the list once we add elements to it.\n",
    "\n",
    "Lastly, list comprehensions are considered the \"pythonic\" way to write code by the PEP8 standards (Python Style Guide)"
   ]
  },
  {
   "cell_type": "code",
   "execution_count": 80,
   "metadata": {},
   "outputs": [
    {
     "name": "stdout",
     "output_type": "stream",
     "text": [
      "for loop squares = \n",
      "[1, 4, 9, 16, 25, 36, 49, 64, 81, 100]\n",
      "list comprehension squares = \n",
      "[1, 4, 9, 16, 25, 36, 49, 64, 81, 100]\n"
     ]
    }
   ],
   "source": [
    "# square number comprehension\n",
    "\n",
    "squares_loop = []\n",
    "for i in range(1,11):\n",
    "    squares_loop.append(i**2)\n",
    "print(f\"for loop squares = \\n{squares_loop}\")\n",
    "\n",
    "squares_comp = [i**2 for i in range(1,11)]\n",
    "print(f\"list comprehension squares = \\n{squares_comp}\")"
   ]
  },
  {
   "cell_type": "code",
   "execution_count": 83,
   "metadata": {},
   "outputs": [
    {
     "name": "stdout",
     "output_type": "stream",
     "text": [
      "['C', 'N', 'S', 'D', 'C', 'C']\n"
     ]
    }
   ],
   "source": [
    "# string comprehension\n",
    "cities = ['Chicago', 'New York', 'San Francisco', 'Denver', 'Champaign', 'Cleveland']\n",
    "\n",
    "first_letters = [city[0] for city in cities]\n",
    "print(first_letters)"
   ]
  },
  {
   "cell_type": "code",
   "execution_count": 84,
   "metadata": {},
   "outputs": [
    {
     "name": "stdout",
     "output_type": "stream",
     "text": [
      "['Chicago', 'Champaign', 'Cleveland']\n"
     ]
    }
   ],
   "source": [
    "# Adding filters\n",
    "cities_starting_with_c = []\n",
    "for city in cities:\n",
    "    if city[0] == 'C':\n",
    "        cities_starting_with_c.append(city)\n",
    "print(cities_starting_with_c)"
   ]
  },
  {
   "cell_type": "code",
   "execution_count": 88,
   "metadata": {},
   "outputs": [
    {
     "name": "stdout",
     "output_type": "stream",
     "text": [
      "['Chicago', 'Champaign', 'Cleveland']\n"
     ]
    }
   ],
   "source": [
    "c_cities_comp = [city for city in cities if city[0] == 'C']\n",
    "print(c_cities_comp)"
   ]
  },
  {
   "cell_type": "code",
   "execution_count": 87,
   "metadata": {},
   "outputs": [
    {
     "name": "stdout",
     "output_type": "stream",
     "text": [
      "['Chicago', 'Denver', 'Champaign', 'Cleveland']\n"
     ]
    }
   ],
   "source": [
    "# Using an 'if' in list comprehension ... filter comes after the for\n",
    "c_cities_comp = [city for city in cities if city[0] == 'C' or city[-1] == 'r']\n",
    "print(c_cities_comp)"
   ]
  },
  {
   "cell_type": "markdown",
   "metadata": {},
   "source": [
    "#### Python Ternary Operator"
   ]
  },
  {
   "cell_type": "code",
   "execution_count": 90,
   "metadata": {},
   "outputs": [
    {
     "name": "stdout",
     "output_type": "stream",
     "text": [
      "Siobhan\n",
      "Kathleen\n"
     ]
    }
   ],
   "source": [
    "# value_if_true if condition else value_if_false\n",
    "\n",
    "# if x > y:\n",
    "#     a = b\n",
    "# else:\n",
    "#     a = c\n",
    "\n",
    "# a = b if x > y else c\n",
    "\n",
    "my_name = \"Siobhan\" if 2 < 5 else \"Kathleen\"\n",
    "print(my_name)\n",
    "\n",
    "my_name = \"Siobhan\" if 2 > 5 else \"Kathleen\"\n",
    "print(my_name)"
   ]
  },
  {
   "cell_type": "code",
   "execution_count": 96,
   "metadata": {},
   "outputs": [
    {
     "name": "stdout",
     "output_type": "stream",
     "text": [
      "['even', 'odd', 'even', 'even', 'even', 'even', 'even', 'odd', 'odd', 'odd', 'even']\n"
     ]
    }
   ],
   "source": [
    "some_nums = [2, 53, 436, 234, 54, 234, 456, 943, 2345, 765, 34]\n",
    "\n",
    "odd_or_even = []\n",
    "\n",
    "for num in some_nums:\n",
    "    if num % 2 == 0:\n",
    "        odd_or_even.append('even')\n",
    "    else:\n",
    "        odd_or_even.append('odd')\n",
    "\n",
    "print(odd_or_even)"
   ]
  },
  {
   "cell_type": "code",
   "execution_count": 98,
   "metadata": {},
   "outputs": [
    {
     "name": "stdout",
     "output_type": "stream",
     "text": [
      "['even', 'odd', 'even', 'even', 'even', 'even', 'even', 'odd', 'odd', 'odd', 'even']\n"
     ]
    }
   ],
   "source": [
    "odd_even_comp = ['even' if num % 2 == 0 else 'odd' for num in some_nums]\n",
    "print(odd_even_comp)"
   ]
  },
  {
   "cell_type": "code",
   "execution_count": 101,
   "metadata": {
    "scrolled": false
   },
   "outputs": [
    {
     "name": "stdout",
     "output_type": "stream",
     "text": [
      "[436, 234, 234, 456, 943, 2345, 765]\n",
      "['even', 'even', 'even', 'even', 'odd', 'odd', 'odd']\n"
     ]
    }
   ],
   "source": [
    "big_nums_list = [num for num in some_nums if num > 100]\n",
    "print(big_nums_list)\n",
    "odd_even_comp = ['even' if num % 2 == 0 else 'odd' for num in some_nums if num > 100]\n",
    "print(odd_even_comp)"
   ]
  },
  {
   "cell_type": "code",
   "execution_count": 103,
   "metadata": {},
   "outputs": [
    {
     "name": "stdout",
     "output_type": "stream",
     "text": [
      "1 10 c\n"
     ]
    }
   ],
   "source": [
    "x = 1\n",
    "y = 10\n",
    "\n",
    "if x > y:\n",
    "    some_test = 'a'\n",
    "elif x == y:\n",
    "    some_test = 'b'\n",
    "else:\n",
    "    some_test = 'c'\n",
    "\n",
    "some_ternary_test = 'a' if x > y else 'b' if x == y else 'c'\n",
    "print(x, y, some_ternary_test)"
   ]
  },
  {
   "cell_type": "code",
   "execution_count": 104,
   "metadata": {},
   "outputs": [
    {
     "name": "stdout",
     "output_type": "stream",
     "text": [
      "['c', 'c', 'c', 'c', 'c', 'c', 'c', 'c', 'c', 'c', 'b', 'a', 'a', 'a', 'a', 'a', 'a', 'a', 'a', 'a']\n"
     ]
    }
   ],
   "source": [
    "x = 1\n",
    "y = 10\n",
    "some_list = ['a' if x > y else 'b' if x == y else 'c' for x in range(20)]\n",
    "print(some_list)"
   ]
  },
  {
   "cell_type": "markdown",
   "metadata": {},
   "source": [
    "### Tuples <br>\n",
    "<p><b>Defined as an immutable list</b></p><br>Seperated by commas using parenthesis"
   ]
  },
  {
   "cell_type": "code",
   "execution_count": 107,
   "metadata": {},
   "outputs": [
    {
     "name": "stdout",
     "output_type": "stream",
     "text": [
      "[1, 2, 3, 4, 5]\n",
      "[1.0, 2, 3, 4, 5]\n"
     ]
    }
   ],
   "source": [
    "#example of mutable list:\n",
    "my_list = [1,2,3,4]\n",
    "my_list.append(5)\n",
    "print(my_list)\n",
    "\n",
    "my_list[0] = 1.0\n",
    "print(my_list)"
   ]
  },
  {
   "cell_type": "code",
   "execution_count": 109,
   "metadata": {},
   "outputs": [
    {
     "name": "stdout",
     "output_type": "stream",
     "text": [
      "(1, 2, 3, 4) <class 'tuple'>\n",
      "(1, 2, 3, 4) <class 'tuple'>\n"
     ]
    }
   ],
   "source": [
    "# Syntax 1: var_tuple = (,)\n",
    "# Syntax 2: var_tuple = , ...,...\n",
    "#COMMAS are most important in setting tuple\n",
    "\n",
    "tuple1 = (1, 2, 3, 4)\n",
    "print(tuple1, type(tuple1))\n",
    "\n",
    "tuple2 = 1, 2, 3, 4\n",
    "print(tuple2, type(tuple2))"
   ]
  },
  {
   "cell_type": "code",
   "execution_count": 111,
   "metadata": {},
   "outputs": [
    {
     "name": "stdout",
     "output_type": "stream",
     "text": [
      "10 <class 'int'>\n",
      "10 <class 'int'>\n",
      "(10,) <class 'tuple'>\n"
     ]
    }
   ],
   "source": [
    "tuple3 = 10\n",
    "print(tuple3, type(tuple3))\n",
    "\n",
    "tuple4 = (10)\n",
    "print(tuple4, type(tuple4))\n",
    "\n",
    "tuple5 = 10,\n",
    "print(tuple5, type(tuple5))"
   ]
  },
  {
   "cell_type": "code",
   "execution_count": 114,
   "metadata": {},
   "outputs": [
    {
     "name": "stdout",
     "output_type": "stream",
     "text": [
      "3\n",
      "(2, 3)\n",
      "1\n",
      "2\n",
      "3\n",
      "4\n"
     ]
    }
   ],
   "source": [
    "# Tuples are indexable\n",
    "print(tuple2[2])\n",
    "\n",
    "\n",
    "# Tuple can be sliced\n",
    "print(tuple1[1:3])\n",
    "\n",
    "\n",
    "# Tuples are iterable\n",
    "for element in tuple1:\n",
    "    print(element)"
   ]
  },
  {
   "cell_type": "code",
   "execution_count": 115,
   "metadata": {},
   "outputs": [
    {
     "ename": "AttributeError",
     "evalue": "'tuple' object has no attribute 'append'",
     "output_type": "error",
     "traceback": [
      "\u001b[0;31m---------------------------------------------------------------------------\u001b[0m",
      "\u001b[0;31mAttributeError\u001b[0m                            Traceback (most recent call last)",
      "Input \u001b[0;32mIn [115]\u001b[0m, in \u001b[0;36m<cell line: 1>\u001b[0;34m()\u001b[0m\n\u001b[0;32m----> 1\u001b[0m \u001b[43mtuple1\u001b[49m\u001b[38;5;241;43m.\u001b[39;49m\u001b[43mappend\u001b[49m(\u001b[38;5;241m5\u001b[39m)\n",
      "\u001b[0;31mAttributeError\u001b[0m: 'tuple' object has no attribute 'append'"
     ]
    }
   ],
   "source": [
    "tuple1.append(5)"
   ]
  },
  {
   "cell_type": "code",
   "execution_count": 116,
   "metadata": {},
   "outputs": [
    {
     "name": "stdout",
     "output_type": "stream",
     "text": [
      "Help on class tuple in module builtins:\n",
      "\n",
      "class tuple(object)\n",
      " |  tuple(iterable=(), /)\n",
      " |  \n",
      " |  Built-in immutable sequence.\n",
      " |  \n",
      " |  If no argument is given, the constructor returns an empty tuple.\n",
      " |  If iterable is specified the tuple is initialized from iterable's items.\n",
      " |  \n",
      " |  If the argument is a tuple, the return value is the same object.\n",
      " |  \n",
      " |  Built-in subclasses:\n",
      " |      asyncgen_hooks\n",
      " |      UnraisableHookArgs\n",
      " |  \n",
      " |  Methods defined here:\n",
      " |  \n",
      " |  __add__(self, value, /)\n",
      " |      Return self+value.\n",
      " |  \n",
      " |  __contains__(self, key, /)\n",
      " |      Return key in self.\n",
      " |  \n",
      " |  __eq__(self, value, /)\n",
      " |      Return self==value.\n",
      " |  \n",
      " |  __ge__(self, value, /)\n",
      " |      Return self>=value.\n",
      " |  \n",
      " |  __getattribute__(self, name, /)\n",
      " |      Return getattr(self, name).\n",
      " |  \n",
      " |  __getitem__(self, key, /)\n",
      " |      Return self[key].\n",
      " |  \n",
      " |  __getnewargs__(self, /)\n",
      " |  \n",
      " |  __gt__(self, value, /)\n",
      " |      Return self>value.\n",
      " |  \n",
      " |  __hash__(self, /)\n",
      " |      Return hash(self).\n",
      " |  \n",
      " |  __iter__(self, /)\n",
      " |      Implement iter(self).\n",
      " |  \n",
      " |  __le__(self, value, /)\n",
      " |      Return self<=value.\n",
      " |  \n",
      " |  __len__(self, /)\n",
      " |      Return len(self).\n",
      " |  \n",
      " |  __lt__(self, value, /)\n",
      " |      Return self<value.\n",
      " |  \n",
      " |  __mul__(self, value, /)\n",
      " |      Return self*value.\n",
      " |  \n",
      " |  __ne__(self, value, /)\n",
      " |      Return self!=value.\n",
      " |  \n",
      " |  __repr__(self, /)\n",
      " |      Return repr(self).\n",
      " |  \n",
      " |  __rmul__(self, value, /)\n",
      " |      Return value*self.\n",
      " |  \n",
      " |  count(self, value, /)\n",
      " |      Return number of occurrences of value.\n",
      " |  \n",
      " |  index(self, value, start=0, stop=9223372036854775807, /)\n",
      " |      Return first index of value.\n",
      " |      \n",
      " |      Raises ValueError if the value is not present.\n",
      " |  \n",
      " |  ----------------------------------------------------------------------\n",
      " |  Class methods defined here:\n",
      " |  \n",
      " |  __class_getitem__(...) from builtins.type\n",
      " |      See PEP 585\n",
      " |  \n",
      " |  ----------------------------------------------------------------------\n",
      " |  Static methods defined here:\n",
      " |  \n",
      " |  __new__(*args, **kwargs) from builtins.type\n",
      " |      Create and return a new object.  See help(type) for accurate signature.\n",
      "\n"
     ]
    }
   ],
   "source": [
    "help(tuple)"
   ]
  },
  {
   "cell_type": "code",
   "execution_count": 118,
   "metadata": {},
   "outputs": [
    {
     "ename": "TypeError",
     "evalue": "'tuple' object does not support item assignment",
     "output_type": "error",
     "traceback": [
      "\u001b[0;31m---------------------------------------------------------------------------\u001b[0m",
      "\u001b[0;31mTypeError\u001b[0m                                 Traceback (most recent call last)",
      "Input \u001b[0;32mIn [118]\u001b[0m, in \u001b[0;36m<cell line: 2>\u001b[0;34m()\u001b[0m\n\u001b[1;32m      1\u001b[0m tuple_a \u001b[38;5;241m=\u001b[39m \u001b[38;5;124m'\u001b[39m\u001b[38;5;124ma\u001b[39m\u001b[38;5;124m'\u001b[39m, \u001b[38;5;124m'\u001b[39m\u001b[38;5;124mb\u001b[39m\u001b[38;5;124m'\u001b[39m, \u001b[38;5;124m'\u001b[39m\u001b[38;5;124mc\u001b[39m\u001b[38;5;124m'\u001b[39m\n\u001b[0;32m----> 2\u001b[0m tuple_a[\u001b[38;5;241m0\u001b[39m] \u001b[38;5;241m=\u001b[39m \u001b[38;5;124m'\u001b[39m\u001b[38;5;124mABC\u001b[39m\u001b[38;5;124m'\u001b[39m\n",
      "\u001b[0;31mTypeError\u001b[0m: 'tuple' object does not support item assignment"
     ]
    }
   ],
   "source": [
    "tuple_a = 'a', 'b', 'c'\n",
    "tuple_a[0] = 'ABC'"
   ]
  },
  {
   "cell_type": "code",
   "execution_count": 121,
   "metadata": {},
   "outputs": [
    {
     "name": "stdout",
     "output_type": "stream",
     "text": [
      "0 Connor\n",
      "1 Max\n",
      "2 Evan\n",
      "3 Jordan\n"
     ]
    }
   ],
   "source": [
    "#many methods return tuples so that you can't mess it up...\n",
    "#example is 'enumerate'\n",
    "cleaned_names = ['Connor', 'Max', 'Evan', 'Jordan']\n",
    "for i in range(len(cleaned_names)):\n",
    "    print(i, cleaned_names[i])"
   ]
  },
  {
   "cell_type": "code",
   "execution_count": 128,
   "metadata": {},
   "outputs": [
    {
     "name": "stdout",
     "output_type": "stream",
     "text": [
      "(0, 'Connor') <class 'tuple'>\n",
      "__________________________________________________\n",
      "Index: 0\n",
      "Value: Connor\n",
      "\n",
      "(1, 'Max') <class 'tuple'>\n",
      "__________________________________________________\n",
      "Index: 1\n",
      "Value: Max\n",
      "\n",
      "(2, 'Evan') <class 'tuple'>\n",
      "__________________________________________________\n",
      "Index: 2\n",
      "Value: Evan\n",
      "\n",
      "(3, 'Jordan') <class 'tuple'>\n",
      "__________________________________________________\n",
      "Index: 3\n",
      "Value: Jordan\n",
      "\n"
     ]
    }
   ],
   "source": [
    "cleaned_names = ['Connor', 'Max', 'Evan', 'Jordan']\n",
    "for x in enumerate(cleaned_names):\n",
    "    print(x, type(x))\n",
    "    print(\"_\" * 50)\n",
    "    print(f\"Index: {x[0]}\")\n",
    "    print(f\"Value: {x[1]}\\n\")"
   ]
  },
  {
   "cell_type": "code",
   "execution_count": 129,
   "metadata": {},
   "outputs": [
    {
     "name": "stdout",
     "output_type": "stream",
     "text": [
      "(1, 2, 3)\n",
      "3\n",
      "a is 1\n",
      "b is 2\n",
      "c is 3\n"
     ]
    }
   ],
   "source": [
    "my_tuple = 1, 2, 3\n",
    "print(my_tuple)\n",
    "\n",
    "a, b, c = (1, 2, 3)\n",
    "print(c)\n",
    "\n",
    "#item count must match\n",
    "# a, b, c, d = (1, 2, 3)\n",
    "# print(c)\n",
    "\n",
    "a, b, c = (1, 2, 3)\n",
    "print(f\"a is {a}\")\n",
    "print(f\"b is {b}\")\n",
    "print(f\"c is {c}\")"
   ]
  },
  {
   "cell_type": "code",
   "execution_count": 130,
   "metadata": {},
   "outputs": [
    {
     "name": "stdout",
     "output_type": "stream",
     "text": [
      "Index: 0\n",
      "Value: Connor\n",
      "Index: 1\n",
      "Value: Max\n",
      "Index: 2\n",
      "Value: Evan\n",
      "Index: 3\n",
      "Value: Jordan\n"
     ]
    }
   ],
   "source": [
    "for index, value in enumerate(cleaned_names):\n",
    "    print(f\"Index: {index}\")\n",
    "    print(f\"Value: {value}\")"
   ]
  },
  {
   "cell_type": "code",
   "execution_count": 132,
   "metadata": {},
   "outputs": [
    {
     "name": "stdout",
     "output_type": "stream",
     "text": [
      "(0, 'Connor')\n",
      "Connor\n"
     ]
    }
   ],
   "source": [
    "#example of how enumerate works\n",
    "example = (0, 'Connor')\n",
    "print(example)\n",
    "\n",
    "index, value = example\n",
    "print(value)"
   ]
  },
  {
   "cell_type": "code",
   "execution_count": 133,
   "metadata": {},
   "outputs": [
    {
     "name": "stdout",
     "output_type": "stream",
     "text": [
      "Tatyana\n",
      "('Brian', 'Tatyana', 'Sam', 'Shoha')\n"
     ]
    }
   ],
   "source": [
    "instructor_tup = 'Brian', 'Tatyana', 'Sam', 'Shoha'\n",
    "\n",
    "#assigns variables to elements of tuple\n",
    "instructor1, instructor2, sam, shoha = instructor_tup\n",
    "# Brian        Tatyana    Sam  Shoha\n",
    "#notice the variable list has same count as tuple\n",
    "\n",
    "print(instructor2)\n",
    "print(instructor_tup)"
   ]
  },
  {
   "cell_type": "markdown",
   "metadata": {},
   "source": [
    "##### sorted()"
   ]
  },
  {
   "cell_type": "code",
   "execution_count": 135,
   "metadata": {},
   "outputs": [
    {
     "name": "stdout",
     "output_type": "stream",
     "text": [
      "[234, 35, 45, 2345, 62, 2346, 23]\n",
      "[23, 35, 45, 62, 234, 2345, 2346]\n",
      "<class 'list'>\n",
      "original tuple hasn't changed: \n",
      "[234, 35, 45, 2345, 62, 2346, 23]\n"
     ]
    }
   ],
   "source": [
    "tup_abc = [234, 35, 45, 2345, 62, 2346, 23]\n",
    "print(tup_abc)\n",
    "\n",
    "sorted_tup = sorted(tup_abc)\n",
    "\n",
    "print(sorted_tup)\n",
    "print(type(sorted_tup))\n",
    "print(f\"original tuple hasn't changed: \\n{tup_abc}\")"
   ]
  },
  {
   "cell_type": "markdown",
   "metadata": {},
   "source": [
    "##### Adding values to a Tuple"
   ]
  },
  {
   "cell_type": "code",
   "execution_count": 139,
   "metadata": {},
   "outputs": [
    {
     "name": "stdout",
     "output_type": "stream",
     "text": [
      "(1, 2, 3, 4, 5, 6)\n",
      "<class 'tuple'>\n"
     ]
    }
   ],
   "source": [
    "tup1 = 1, 2, 3\n",
    "tup2 = 4, 5, 6\n",
    "tup3 = tup1 + tup2\n",
    "\n",
    "print(tup3)\n",
    "print(type(tup3))"
   ]
  },
  {
   "cell_type": "code",
   "execution_count": 140,
   "metadata": {},
   "outputs": [
    {
     "name": "stdout",
     "output_type": "stream",
     "text": [
      "(1, 2, 3, 4)\n",
      "(1.0, 2.0, 3.0, 4.0)\n",
      "('a', 'b', 'c', 'd')\n",
      "(<built-in function len>, <class 'range'>, <built-in function max>, <built-in function min>, Type help() for interactive help, or help(object) for help about object.)\n",
      "(<class 'int'>, <class 'float'>, <class 'tuple'>, <class 'list'>)\n"
     ]
    }
   ],
   "source": [
    "#tuples can hold any type of data\n",
    "tup_int = (1, 2, 3, 4)\n",
    "tup_float = (1.0, 2.0, 3.0, 4.0)\n",
    "tup_string = ('a', 'b', 'c', 'd')\n",
    "tup_func = (len, range, max, min, help)\n",
    "tup_obj = (int, float, tuple, list)\n",
    "\n",
    "print(tup_int)\n",
    "print(tup_float)\n",
    "print(tup_string)\n",
    "print(tup_func)\n",
    "print(tup_obj)"
   ]
  },
  {
   "cell_type": "markdown",
   "metadata": {},
   "source": [
    "# Exercises"
   ]
  },
  {
   "cell_type": "markdown",
   "metadata": {},
   "source": [
    "## Exercise 1 <br>\n",
    "<p>Create a list of numbers that are less than ten using l_1 and list comprehension</b></i></p><br>\n",
    "<p> Your output should [1,5,8,9]</p>"
   ]
  },
  {
   "cell_type": "code",
   "execution_count": 141,
   "metadata": {},
   "outputs": [
    {
     "name": "stdout",
     "output_type": "stream",
     "text": [
      "[1, 5, 8, 9]\n"
     ]
    }
   ],
   "source": [
    "# Use the following list - [1,11,14,5,8,9]\n",
    "\n",
    "l_1 = [1,11,14,5,8,9]\n",
    "\n",
    "l_1_less_than_ten = [l for l in l_1 if l < 10]\n",
    "\n",
    "print(l_1_less_than_ten)\n",
    "\n"
   ]
  },
  {
   "cell_type": "markdown",
   "metadata": {},
   "source": [
    "## Exercise 2 <br>\n",
    "<p>Using list comprehension, create a list of names of 4 letters or more and capitalize each name\n",
    "<br>"
   ]
  },
  {
   "cell_type": "code",
   "execution_count": 151,
   "metadata": {},
   "outputs": [
    {
     "name": "stdout",
     "output_type": "stream",
     "text": [
      "Capitalized names longer than 4:\n",
      "['Connor', 'Connor', 'Connor', 'Evan', 'Evan', 'Kevin']\n",
      "\n"
     ]
    }
   ],
   "source": [
    "names1 = ['connor', 'connor', 'bob', 'connor', 'evan', 'max', 'evan', 'bob', 'kevin']\n",
    "\n",
    "short_names_caps = [n.title() for n in names1 if len(n) >= 4]\n",
    "\n",
    "print(f\"Capitalized names longer than 4:\\n{short_names_caps}\\n\")\n"
   ]
  },
  {
   "cell_type": "code",
   "execution_count": 152,
   "metadata": {},
   "outputs": [
    {
     "name": "stdout",
     "output_type": "stream",
     "text": [
      "Capitalized string-only names longer than 4:\n",
      "['Connor', 'Connor', 'Connor', 'Evan', 'Evan', 'Kevin']\n",
      "\n"
     ]
    }
   ],
   "source": [
    "# Bonus Challenge\n",
    "names2 = ['connor', 'connor', 'bob', 'connor', 'evan', 'max', 'evan', 2, 2, 2, 3, 3, 4, 'bob', 'kevin']\n",
    "\n",
    "short_names_caps_no_int = [n.title() for n in names2 if isinstance(n, str) if len(n) >=4]\n",
    "\n",
    "print(f\"Capitalized string-only names longer than 4:\\n{short_names_caps_no_int}\\n\")\n"
   ]
  }
 ],
 "metadata": {
  "kernelspec": {
   "display_name": "Python 3 (ipykernel)",
   "language": "python",
   "name": "python3"
  },
  "language_info": {
   "codemirror_mode": {
    "name": "ipython",
    "version": 3
   },
   "file_extension": ".py",
   "mimetype": "text/x-python",
   "name": "python",
   "nbconvert_exporter": "python",
   "pygments_lexer": "ipython3",
   "version": "3.9.7"
  }
 },
 "nbformat": 4,
 "nbformat_minor": 2
}
